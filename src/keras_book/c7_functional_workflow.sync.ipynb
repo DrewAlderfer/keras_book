{
 "cells": [
  {
   "cell_type": "code",
   "execution_count": 21,
   "id": "1333e456",
   "metadata": {
    "lines_to_next_cell": 2
   },
   "outputs": [],
   "source": [
    "import os\n",
    "import tensorflow as tf\n",
    "from tensorflow.keras.datasets import mnist\n",
    "from chapter7.chapter7 import RootMeanSquaredError, LossHistory,training_loop_ex, CustomModel"
   ]
  },
  {
   "cell_type": "code",
   "execution_count": 2,
   "id": "72189a10",
   "metadata": {
    "lines_to_next_cell": 2
   },
   "outputs": [],
   "source": [
    "%load_ext autoreload\n",
    "%autoreload 2"
   ]
  },
  {
   "cell_type": "code",
   "execution_count": 3,
   "id": "b972b449",
   "metadata": {
    "lines_to_next_cell": 1
   },
   "outputs": [],
   "source": [
    "def get_mnist_model():\n",
    "    inputs = tf.keras.Input(shape=(28 * 28,))\n",
    "    features = tf.keras.layers.Dense(512, activation=\"relu\")(inputs)\n",
    "    features = tf.keras.layers.Dropout(0.5)(features)\n",
    "    outputs = tf.keras.layers.Dense(10, activation='softmax')(features)\n",
    "    model = tf.keras.Model(inputs, outputs)\n",
    "    return model"
   ]
  },
  {
   "cell_type": "code",
   "execution_count": 4,
   "id": "cd103e89",
   "metadata": {
    "lines_to_next_cell": 2
   },
   "outputs": [],
   "source": [
    "(images, labels), (test_images, test_labels) = mnist.load_data()\n",
    "images = images.reshape((60000, 28 * 28)).astype(\"float32\") / 255\n",
    "test_images = test_images.reshape((10000, 28 * 28)).astype(\"float32\") / 255\n",
    "train_images, val_images = images[10000:], images[:10000]\n",
    "train_labels, val_labels = labels[10000:], labels[:10000]"
   ]
  },
  {
   "cell_type": "code",
   "execution_count": 5,
   "id": "3c11b035",
   "metadata": {},
   "outputs": [
    {
     "name": "stderr",
     "output_type": "stream",
     "text": [
      "2022-12-11 18:46:39.867225: I tensorflow/compiler/xla/stream_executor/cuda/cuda_gpu_executor.cc:1026] could not open file to read NUMA node: /sys/bus/pci/devices/0000:01:00.0/numa_node\n",
      "Your kernel may have been built without NUMA support.\n",
      "2022-12-11 18:46:39.869344: I tensorflow/compiler/xla/stream_executor/cuda/cuda_gpu_executor.cc:1026] could not open file to read NUMA node: /sys/bus/pci/devices/0000:01:00.0/numa_node\n",
      "Your kernel may have been built without NUMA support.\n",
      "2022-12-11 18:46:39.869367: I tensorflow/compiler/xla/stream_executor/cuda/cuda_gpu_executor.cc:1026] could not open file to read NUMA node: /sys/bus/pci/devices/0000:01:00.0/numa_node\n",
      "Your kernel may have been built without NUMA support.\n",
      "2022-12-11 18:46:39.870698: I tensorflow/compiler/xla/stream_executor/cuda/cuda_gpu_executor.cc:1026] could not open file to read NUMA node: /sys/bus/pci/devices/0000:01:00.0/numa_node\n",
      "Your kernel may have been built without NUMA support.\n",
      "2022-12-11 18:46:39.870724: I tensorflow/compiler/xla/stream_executor/cuda/cuda_gpu_executor.cc:1026] could not open file to read NUMA node: /sys/bus/pci/devices/0000:01:00.0/numa_node\n",
      "Your kernel may have been built without NUMA support.\n",
      "2022-12-11 18:46:39.870734: I tensorflow/compiler/xla/stream_executor/cuda/cuda_gpu_executor.cc:1026] could not open file to read NUMA node: /sys/bus/pci/devices/0000:01:00.0/numa_node\n",
      "Your kernel may have been built without NUMA support.\n",
      "2022-12-11 18:46:40.636964: I tensorflow/compiler/xla/stream_executor/cuda/cuda_gpu_executor.cc:1026] could not open file to read NUMA node: /sys/bus/pci/devices/0000:01:00.0/numa_node\n",
      "Your kernel may have been built without NUMA support.\n",
      "2022-12-11 18:46:40.637023: I tensorflow/compiler/xla/stream_executor/cuda/cuda_gpu_executor.cc:1026] could not open file to read NUMA node: /sys/bus/pci/devices/0000:01:00.0/numa_node\n",
      "Your kernel may have been built without NUMA support.\n",
      "2022-12-11 18:46:40.637029: I tensorflow/core/common_runtime/gpu/gpu_device.cc:1701] Could not identify NUMA node of platform GPU id 0, defaulting to 0.  Your kernel may not have been built with NUMA support.\n",
      "2022-12-11 18:46:40.637045: I tensorflow/compiler/xla/stream_executor/cuda/cuda_gpu_executor.cc:1026] could not open file to read NUMA node: /sys/bus/pci/devices/0000:01:00.0/numa_node\n",
      "Your kernel may have been built without NUMA support.\n",
      "2022-12-11 18:46:40.637077: I tensorflow/core/common_runtime/gpu/gpu_device.cc:1614] Created device /job:localhost/replica:0/task:0/device:GPU:0 with 5486 MB memory:  -> device: 0, name: NVIDIA RTX A2000 8GB Laptop GPU, pci bus id: 0000:01:00.0, compute capability: 8.6\n"
     ]
    }
   ],
   "source": [
    "model = get_mnist_model()\n",
    "model.compile(optimizer=\"rmsprop\",\n",
    "              loss=tf.keras.losses.sparse_categorical_crossentropy,\n",
    "              metrics=[\"accuracy\"])"
   ]
  },
  {
   "cell_type": "code",
   "execution_count": 6,
   "id": "bcdb772f",
   "metadata": {},
   "outputs": [
    {
     "name": "stdout",
     "output_type": "stream",
     "text": [
      "Epoch 1/3\n"
     ]
    },
    {
     "name": "stderr",
     "output_type": "stream",
     "text": [
      "2022-12-11 18:46:47.060656: I tensorflow/compiler/xla/stream_executor/cuda/cuda_blas.cc:637] TensorFloat-32 will be used for the matrix multiplication. This will only be logged once.\n"
     ]
    },
    {
     "name": "stdout",
     "output_type": "stream",
     "text": [
      "1563/1563 [==============================] - 7s 3ms/step - loss: 0.2938 - accuracy: 0.9113 - val_loss: 0.1485 - val_accuracy: 0.9568\n",
      "Epoch 2/3\n",
      "1563/1563 [==============================] - 6s 4ms/step - loss: 0.1594 - accuracy: 0.9550 - val_loss: 0.1103 - val_accuracy: 0.9685\n",
      "Epoch 3/3\n",
      "1563/1563 [==============================] - 5s 3ms/step - loss: 0.1284 - accuracy: 0.9638 - val_loss: 0.1103 - val_accuracy: 0.9700\n"
     ]
    },
    {
     "data": {
      "text/plain": [
       "<keras.callbacks.History at 0x7fa742397d00>"
      ]
     },
     "execution_count": 6,
     "metadata": {},
     "output_type": "execute_result"
    }
   ],
   "source": [
    "os.environ[\"XLA_FLAGS\"]=\"--xla_gpu_cuda_data_dir=/home/drew/conda/envs/tf_env/\"\n",
    "model.fit(train_images, train_labels,\n",
    "          epochs=3,\n",
    "          validation_data=(val_images, val_labels))"
   ]
  },
  {
   "cell_type": "code",
   "execution_count": 7,
   "id": "d3b098d0",
   "metadata": {},
   "outputs": [
    {
     "name": "stdout",
     "output_type": "stream",
     "text": [
      "313/313 [==============================] - 1s 2ms/step - loss: 0.1002 - accuracy: 0.9716\n",
      "313/313 [==============================] - 0s 1ms/step\n"
     ]
    }
   ],
   "source": [
    "test_metrics = model.evaluate(test_images, test_labels)\n",
    "predictions = model.predict(test_images)"
   ]
  },
  {
   "cell_type": "code",
   "execution_count": 11,
   "id": "ed3390a7",
   "metadata": {},
   "outputs": [
    {
     "name": "stdout",
     "output_type": "stream",
     "text": [
      "hello 2\n",
      "Epoch 1/3\n",
      "1563/1563 [==============================] - 7s 4ms/step - loss: 0.2913 - accuracy: 0.9139 - rmse: 7.1810 - val_loss: 0.1586 - val_accuracy: 0.9535 - val_rmse: 7.2114\n",
      "Epoch 2/3\n",
      "1563/1563 [==============================] - 6s 4ms/step - loss: 0.1581 - accuracy: 0.9539 - rmse: 7.2761 - val_loss: 0.1208 - val_accuracy: 0.9666 - val_rmse: 7.2869\n",
      "Epoch 3/3\n",
      "1563/1563 [==============================] - 6s 4ms/step - loss: 0.1309 - accuracy: 0.9628 - rmse: 7.3153 - val_loss: 0.0976 - val_accuracy: 0.9722 - val_rmse: 7.3210\n",
      "313/313 [==============================] - 1s 3ms/step - loss: 0.0948 - accuracy: 0.9730 - rmse: 7.3270\n"
     ]
    }
   ],
   "source": [
    "model = get_mnist_model()\n",
    "model.compile(optimizer=\"rmsprop\",\n",
    "              loss=\"sparse_categorical_crossentropy\",\n",
    "              metrics=[\"accuracy\", RootMeanSquaredError()])\n",
    "history = model.fit(train_images, train_labels,\n",
    "          epochs=3,\n",
    "          validation_data=(val_images,val_labels))\n",
    "test_metrics = model.evaluate(test_images, test_labels)"
   ]
  },
  {
   "cell_type": "code",
   "execution_count": 12,
   "id": "8f9dc294",
   "metadata": {},
   "outputs": [
    {
     "data": {
      "text/plain": [
       "{'loss': [0.2912866771221161, 0.15810461342334747, 0.1309245228767395],\n",
       " 'accuracy': [0.913919985294342, 0.9538599848747253, 0.9628199934959412],\n",
       " 'rmse': [7.181007385253906, 7.2761359214782715, 7.315258502960205],\n",
       " 'val_loss': [0.15860949456691742, 0.1207871362566948, 0.097620889544487],\n",
       " 'val_accuracy': [0.953499972820282, 0.9666000008583069, 0.9721999764442444],\n",
       " 'val_rmse': [7.2114434242248535, 7.286879062652588, 7.321035385131836]}"
      ]
     },
     "execution_count": 12,
     "metadata": {},
     "output_type": "execute_result"
    }
   ],
   "source": [
    "history.history"
   ]
  },
  {
   "cell_type": "code",
   "execution_count": 17,
   "id": "04f638ad",
   "metadata": {},
   "outputs": [
    {
     "name": "stdout",
     "output_type": "stream",
     "text": [
      "hello 2\n",
      "Epoch 1/3\n",
      "1563/1563 [==============================] - 7s 4ms/step - loss: 0.2967 - accuracy: 0.9126 - rmse: 7.1769 - val_loss: 0.1725 - val_accuracy: 0.9497 - val_rmse: 7.2044\n",
      "Epoch 2/3\n",
      "1563/1563 [==============================] - 7s 4ms/step - loss: 0.1584 - accuracy: 0.9543 - rmse: 7.2707 - val_loss: 0.1213 - val_accuracy: 0.9661 - val_rmse: 7.2821\n",
      "Epoch 3/3\n",
      "1563/1563 [==============================] - 7s 4ms/step - loss: 0.1285 - accuracy: 0.9633 - rmse: 7.3128 - val_loss: 0.1040 - val_accuracy: 0.9722 - val_rmse: 7.3189\n"
     ]
    }
   ],
   "source": [
    "model = get_mnist_model()\n",
    "model.compile(optimizer=\"rmsprop\",\n",
    "              loss=\"sparse_categorical_crossentropy\",\n",
    "              metrics=[\"accuracy\", RootMeanSquaredError()])\n",
    "history = model.fit(train_images, train_labels,\n",
    "                    epochs=3,\n",
    "                    callbacks=[LossHistory()],\n",
    "                    validation_data=(val_images,val_labels))"
   ]
  },
  {
   "cell_type": "markdown",
   "id": "49c93152",
   "metadata": {},
   "source": [
    "<img src=\"./chapter7/images/fig7_20_epoch_0.png\"></img>"
   ]
  },
  {
   "cell_type": "code",
   "execution_count": 20,
   "id": "13093cb7",
   "metadata": {},
   "outputs": [
    {
     "name": "stdout",
     "output_type": "stream",
     "text": [
      "Results at the end of epoch 0\n",
      "...sparse_categorical_accuracy: 0.9137399792671204:.4f\n",
      "...loss: 0.2909649908542633:.4f\n",
      "Results at the end of epoch 1\n",
      "...sparse_categorical_accuracy: 0.954039990901947:.4f\n",
      "...loss: 0.15992550551891327:.4f\n",
      "Results at the end of epoch 2\n",
      "...sparse_categorical_accuracy: 0.9635000228881836:.4f\n",
      "...loss: 0.13040299713611603:.4f\n",
      "Evaluation results:\n",
      "...val_sparse_categorical_accuracy: 0.9707\n",
      "...val_loss: 0.1074\n"
     ]
    }
   ],
   "source": [
    "model_2 = get_mnist_model()\n",
    "training_loop_ex(model_2, train_images, train_labels,\n",
    "                 validation_data=(val_images, val_labels))"
   ]
  },
  {
   "cell_type": "code",
   "execution_count": 24,
   "id": "57e7e40b",
   "metadata": {},
   "outputs": [],
   "source": [
    "inputs = tf.keras.Input(shape=(28 * 28,))\n",
    "features = tf.keras.layers.Dense(512, activation=\"relu\")(inputs)\n",
    "features = tf.keras.layers.Dropout(0.5)(features)\n",
    "outputs = tf.keras.layers.Dense(10, activation=\"softmax\")(features)\n",
    "\n",
    "model = CustomModel(inputs, outputs)\n",
    "\n",
    "model.compile(optimizer=tf.keras.optimizers.RMSprop(),\n",
    "               loss=tf.keras.losses.SparseCategoricalCrossentropy(),\n",
    "               metrics=[tf.keras.metrics.SparseCategoricalAccuracy()])"
   ]
  },
  {
   "cell_type": "code",
   "execution_count": 25,
   "id": "95067aef",
   "metadata": {},
   "outputs": [
    {
     "name": "stdout",
     "output_type": "stream",
     "text": [
      "Epoch 1/3\n",
      "1563/1563 [==============================] - 5s 3ms/step - loss: 0.2929 - sparse_categorical_accuracy: 0.9113\n",
      "Epoch 2/3\n",
      "1563/1563 [==============================] - 5s 3ms/step - loss: 0.1634 - sparse_categorical_accuracy: 0.9530\n",
      "Epoch 3/3\n",
      "1563/1563 [==============================] - 5s 3ms/step - loss: 0.1304 - sparse_categorical_accuracy: 0.9635\n"
     ]
    },
    {
     "data": {
      "text/plain": [
       "<keras.callbacks.History at 0x7fa8775772b0>"
      ]
     },
     "execution_count": 25,
     "metadata": {},
     "output_type": "execute_result"
    }
   ],
   "source": [
    "model.fit(train_images, train_labels, epochs=3)"
   ]
  }
 ],
 "metadata": {
  "jupytext": {
   "cell_metadata_filter": "-all",
   "formats": "ipynb,auto:percent",
   "notebook_metadata_filter": "-all"
  },
  "kernelspec": {
   "display_name": "Python 3 (ipykernel)",
   "language": "python",
   "name": "python3"
  },
  "language_info": {
   "codemirror_mode": {
    "name": "ipython",
    "version": 3
   },
   "file_extension": ".py",
   "mimetype": "text/x-python",
   "name": "python",
   "nbconvert_exporter": "python",
   "pygments_lexer": "ipython3",
   "version": "3.10.8"
  }
 },
 "nbformat": 4,
 "nbformat_minor": 5
}
